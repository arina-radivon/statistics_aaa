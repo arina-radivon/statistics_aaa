{
 "cells": [
  {
   "cell_type": "markdown",
   "metadata": {
    "id": "ix5mg3lvmi-0"
   },
   "source": [
    "# Прикладная статистика. ДЗ 1.\n",
    "# Академия Аналитиков Авито"
   ]
  },
  {
   "cell_type": "markdown",
   "metadata": {
    "id": "Ia8PT-uBmoxo"
   },
   "source": [
    "__Правила:__\n",
    "- Финальный дедлайн: **2022-11-30 23:59**. \n",
    "- После того как ваше решение проверят и ответят, вам дается неделя на исправление тех задач, о которых скажет проверяющий. Ответ и обсуждение решения — в телеграме.\n",
    "\n",
    "- Выполненную работу нужно отправить\n",
    "    - в чатик HW1-<ваше имя> через бота @AAA_stats23_bot\n",
    "    - или в личные сообщения боту.\n",
    "- В качестве решения нужно отправить файл ipynb. Ссылка на интернет-ресурсы не принимается. Не публикуйте решения в открытом доступе!\n",
    "- Для выполнения задания используйте этот ноутбук в качествие основы, ничего не удаляя из него. **При этом можно добавлять новые ячейки!**\n",
    "- в ячейках с комменарием `#Автопроверка` нужно заполнить содержимое функций и классов (если есть), которые будут уже объявлены в этой ячейке. При этом:\n",
    "    - Нельзя убрирать или переставять `#Автопроверка` в ячейке. \n",
    "    - Нельзя менять сигнатуру и возвращаемое значение функций. То есть добавлять любой код можно, но удалять, что уже написано - нельзя.\n",
    "    - Нельзя ничего импортировать в таких ячейках. Все доступные для использования библиотеки будут указаны заранее. Такие слова, как `import`, `globals`, `locals`, `eval`, `exec` также нельзя использовать внутри ячеек.\n",
    "    - Нельзя использовать библиотеки, кроме тех, что указаны в задании. Ваш код должен работать именно с эти набором библиотек без любого дополнительного импорта!\n",
    "    - Нельзя использовать код из других ячеек ноутбука (кроме ячейки с импортом, в которой указаны все доступные библиотеки). Единственное исключение - если вы проставите в начало такой ячейки слово `#Автопроверка`. Тогда вы можете использовать код из этой ячейки.\n",
    "    - В случае нарушения этого правила автопроверка будет провалена и вы не получите часть баллов за задачу. \n",
    "    - В случае, если есть несколько ячеек автопроверки, то в каждой такой ячейке можно использовать созданные вами функции (или классы) из других ячеек автопроверки."
   ]
  },
  {
   "cell_type": "code",
   "execution_count": 61,
   "metadata": {
    "id": "dKDxSJ9WS_tk"
   },
   "outputs": [],
   "source": [
    "from collections import namedtuple\n",
    "from scipy.stats import binom\n",
    "import math\n",
    "import numpy as np"
   ]
  },
  {
   "cell_type": "markdown",
   "metadata": {
    "id": "PJ-OUCn7atBd"
   },
   "source": [
    "# Общие замечания по задачам с автопроверкой\n",
    "\n",
    "Во всех задачах далее, где потребуется автопроверка, можно использовать только следующие библиотеки:\n",
    "\n",
    "```\n",
    "from collections import namedtuple\n",
    "from scipy.stats import binom\n",
    "import math\n",
    "import numpy as np\n",
    "```\n",
    "\n",
    "Еще раз обращаем внимание, что в ячейках автопроверки __не__ должны быть импортированы какие-либо библиотеки. В других ячейках импортировать библиотеки можно, но при проверке использованы будут только указанные."
   ]
  },
  {
   "cell_type": "markdown",
   "metadata": {
    "id": "ZCxtcEm9TK0j"
   },
   "source": [
    "## Задача 1. 3 балла\n",
    "\n",
    "[Осьминог Пауль](https://www.championat.com/football/article-3238881-samye-izvestnye-zhivotnye-predskazateli.html) 14 раз пробовал угадать победителя футбольного матча.\n",
    "12 раз он угадал правильно, 2 раза — ошибся. Мы хотим проверить гипотезу:\n",
    "\n",
    " - $H_0$: осьминог угадывает победителя матча с вероятностью 0.5\n",
    " - $H_1$: осьминог выбирает победителя  матча с вероятностью $\\neq$ 0.5\n",
    "\n",
    "#### Пункт А. 1 балл: \n",
    "\n",
    "### На зачет\n",
    "\n",
    "Вам нужно разработать статистический критерий для проверки этой гипотезы, а также посчитать p-value."
   ]
  },
  {
   "cell_type": "markdown",
   "metadata": {
    "executionInfo": {
     "elapsed": 4,
     "status": "ok",
     "timestamp": 1665948902721,
     "user": {
      "displayName": "Dmitriy Lunin",
      "userId": "12580797963137539995"
     },
     "user_tz": -180
    },
    "id": "XiS5n6kXSobS"
   },
   "source": [
    "# Теоретические выкладки\n",
    "\n",
    "$\\textbf{Формулировка задачи}$\n",
    "\n",
    "Пусть $\\xi - $ величина конверсии. То есть $\\xi_i = 1$, если Пауль угадал результат матча и, наоборот, $\\xi_i = 0$, если не угадал. Тогда на математическом языке:\n",
    "$$ H_0:  \\mu = 0.5$$\n",
    "$$ H_1: \\mu \\neq 0.5 $$\n",
    "Где $\\mu$ - вероятность угадать результат матча.\n",
    "\n",
    "$\\textbf{Статистический критерий}$\n",
    "\n",
    "Наша выборка состоит из 14-ти величин $\\xi_i$, которые представляют собой нули и единицы. Тогда введем статистику Q как сумму величин $\\xi_i$:\n",
    "$$ Q(\\xi^n) = \\sum_{i=1}^n \\xi_i $$"
   ]
  },
  {
   "cell_type": "markdown",
   "metadata": {},
   "source": [
    "Тогда для заданной $\\alpha = 5 \\%$ найдем критические значения Q слева и справа:"
   ]
  },
  {
   "cell_type": "code",
   "execution_count": 62,
   "metadata": {},
   "outputs": [
    {
     "name": "stdout",
     "output_type": "stream",
     "text": [
      "Критические значения k: k<= 2.0 и k>= 12.0\n"
     ]
    }
   ],
   "source": [
    "alpha_max = 0.05\n",
    "\n",
    "critical_value_right = binom.ppf(1 - alpha_max/2, n = 14, p = 0.5) + 1\n",
    "critical_value_left = binom.ppf(alpha_max/2, n = 14, p = 0.5) - 1\n",
    "print(f'Критические значения k: k<= {critical_value_left} и k>= {critical_value_right}' )"
   ]
  },
  {
   "cell_type": "markdown",
   "metadata": {},
   "source": [
    "То есть при $\\alpha = 5 \\%$ мы будем отвергать нулевую гипотезу при реализации $ Q \\geq 12 $ и при $Q \\leq 2$\n",
    "\n",
    "По условию количество верных предсказаний Осьминога, то есть реализация статистики Q, равна:\n",
    "\n",
    "$k = 12$, а значит мы отвергаем $H_0$\n",
    "\n",
    "Реализуем то же самое на языке p-value в функции $\\textit{PaulCheckResults}$"
   ]
  },
  {
   "cell_type": "markdown",
   "metadata": {
    "id": "TA2pOET1UA19"
   },
   "source": [
    "Реализуйте критерий `check_paul_criterion(n, k, alpha)`, где \n",
    "- `n` &mdash; количество матчей;\n",
    "- `k` &mdash; количество верных предсказаний от осьминога;\n",
    "- `alpha` &mdash; уровень значимости критерия.\n",
    "\n",
    "Функция должна вернуть `PaulCheckResults` с полями\n",
    "- is_rejected: отверглась или нет гипотеза H_0 на уровне значимости alpha\n",
    "- pvalue\n"
   ]
  },
  {
   "cell_type": "code",
   "execution_count": 63,
   "metadata": {
    "id": "LwmVcAYhUAI1"
   },
   "outputs": [],
   "source": [
    "# Автопроверка\n",
    "\n",
    "PaulCheckResults = namedtuple('PaulCheckResults', ['is_rejected', 'pvalue'])\n",
    "\n",
    "def check_paul_criterion(n: int, k: int, alpha: float = 0.05):\n",
    "    \"\"\"\n",
    "    Параметры:\n",
    "    - n: количество матчей\n",
    "    - k: количество верных предсказаний от осьминога\n",
    "    - alpha: уровень значимости критерия.\n",
    "        \n",
    "    Возвращает:\n",
    "    - PaulCheckResults с полями:\n",
    "        - is_rejected: bool\n",
    "            - отверглась или нет гипотеза H_0 \n",
    "                       на уровне значимости alpha\n",
    "        - pvalue: float\n",
    "    \"\"\"\n",
    "\n",
    "    is_rejected = None\n",
    "    pvalue = None\n",
    "\n",
    "    pvalue_one_side = 1 - binom.cdf(k-1, n, p = 0.5)\n",
    "    if pvalue_one_side > 0.5:\n",
    "        pvalue_one_side = binom.cdf(k, n, p = 0.5)\n",
    "    \n",
    "    pvalue = pvalue_one_side * 2\n",
    "    \n",
    "    is_rejected = (pvalue <= alpha)\n",
    "    \n",
    "    \n",
    "\n",
    "    return PaulCheckResults(is_rejected, pvalue)\n"
   ]
  },
  {
   "cell_type": "code",
   "execution_count": 64,
   "metadata": {},
   "outputs": [
    {
     "data": {
      "text/plain": [
       "PaulCheckResults(is_rejected=True, pvalue=0.012939453125)"
      ]
     },
     "execution_count": 64,
     "metadata": {},
     "output_type": "execute_result"
    }
   ],
   "source": [
    "check_paul_criterion(n = 14, k = 12, alpha = 0.05)"
   ]
  },
  {
   "cell_type": "markdown",
   "metadata": {
    "id": "M86GBVKbSYR6"
   },
   "source": [
    "#### Пункт B. 2 балла: \n",
    "\n",
    "Какие выводы можно сделать из полученного результата?"
   ]
  },
  {
   "cell_type": "markdown",
   "metadata": {
    "id": "bmvrxyMlT_mq"
   },
   "source": [
    "Для более наглядного восприятия полученного результата построим график"
   ]
  },
  {
   "cell_type": "code",
   "execution_count": 65,
   "metadata": {},
   "outputs": [
    {
     "data": {
      "image/png": "[encoded data removed]",
      "text/plain": [
       "<Figure size 864x432 with 1 Axes>"
      ]
     },
     "metadata": {
      "needs_background": "light"
     },
     "output_type": "display_data"
    }
   ],
   "source": [
    "from matplotlib import pyplot\n",
    "\n",
    "n = 14\n",
    "mu0 = 0.5\n",
    "critical_value_right = 12\n",
    "critical_value_left = 2\n",
    "k = 12\n",
    "\n",
    "x = np.arange(start = 0, stop = n+1)\n",
    "y = binom.pmf(x, n, mu0)\n",
    "\n",
    "pyplot.figure(figsize = (12,6))\n",
    "\n",
    "pyplot.vlines(x, 0, y, colors='g', linestyles='-', linewidth=20.0, label='pmf, $\\mu = 0.5$')\n",
    "\n",
    "y_critical = [0 if (x_i < critical_value_right and x_i > critical_value_left) else binom.pmf(x_i, n, mu0) for x_i in x]\n",
    "pyplot.vlines(x, 0, y_critical, colors='y', linestyles='-', linewidth=11.0, label='alpha')\n",
    "\n",
    "y_pval = [0 if x_i < k else binom.pmf(x_i, n, mu0) for x_i in x]\n",
    "pyplot.vlines(x, 0, y_pval, colors='b', linestyles='-', linewidth=4.0, label='p-value')\n",
    "\n",
    "pyplot.title('Alpha and p-value', fontsize=16)\n",
    "pyplot.legend(loc='best', prop={'size':12})\n",
    "pyplot.xticks(fontsize=14)\n",
    "pyplot.yticks(fontsize=14)\n",
    "pyplot.show()"
   ]
  },
  {
   "cell_type": "markdown",
   "metadata": {},
   "source": [
    "Итак, мы получили отвержение нулевой гипотезы и p-value = 0.012939453125 для двустороннего критерия.\n",
    "То есть вероятность получить заданную реализацию k = 12 или более критическую равна:\n",
    "$$ pvalue (k \\geq 12) = \\frac{pvalue (two sided)}{2} = 0.0064697265625 $$\n",
    "\n",
    "\n",
    "То есть примерно 0.65%, в связи с чем Осьминог Пауль почти наверное обладает экстрасенсиорными способностями"
   ]
  },
  {
   "cell_type": "markdown",
   "metadata": {
    "id": "ukkQeXMzadSw"
   },
   "source": [
    "## Задача 2. 3 балла\n",
    "\n",
    "### На зачет\n",
    "\n",
    "Мы разработали новый дизайн нашего продукта. Вероятность, что он понравится случайному человеку — $p$, и она нам неизвестна. Мы хотим\n",
    "проверить $H_0: p = 1$ с помощью статистического критерия c уровнем значимости $\\alpha$. Предложить критерий для решения этой задачи."
   ]
  },
  {
   "cell_type": "markdown",
   "metadata": {
    "id": "oZx--5Giam5G"
   },
   "source": [
    "### Статичтический критерий\n",
    "\n",
    "$$ H_0: p = 1 $$\n",
    "$$ H_1: p < 1 $$\n",
    "\n",
    "$\\textit{Входные данные для данной задачи:}$\n",
    "\n",
    "$\\alpha -$ уровень значимости критерия (нулевая гипотеза верна, но мы ее отвергли), вероятность ложного отвержения $H_0$ ($\\textit{false positive}$)\n",
    "\n",
    "$\\beta -$ вероятность принять $H_0$, если она не верна ($\\textit{false negative}$)\n",
    "\n",
    "$1 - \\beta -$ статистическая мощность, вероятность справедливо принять $H_1$, если она верна ($\\textit{true positive}$)\n",
    "\n",
    "$ p - $ вероятность, что дизайн понравился человеку\n",
    "\n",
    "Будем отвергать гипотезу $H_0$ при попадании значения левее критического"
   ]
  },
  {
   "cell_type": "markdown",
   "metadata": {
    "id": "rcJ8DpM6anBh"
   },
   "source": [
    "Напишите функцию `calculate_number_of_users(alpha, beta, p)` — скольки людям нужно показать этот дизайн, чтобы добиться мощности `1 - beta` при заданном `p` и уровне значимости `alpha`.\n",
    "\n",
    "P.S. Утверждается, что на наших тестах ответ не будет превосходить 1000 человек."
   ]
  },
  {
   "cell_type": "code",
   "execution_count": 66,
   "metadata": {
    "id": "6MNoFCQTbCgy"
   },
   "outputs": [],
   "source": [
    "#Автопроверка\n",
    "\n",
    "def calculate_number_of_users(alpha: float, beta: float, p: float):\n",
    "    \"\"\"\n",
    "    Параметры:\n",
    "    - alpha: уровень значимости\n",
    "    - beta: инвертированная мощность критерия. мощность = 1 - beta.\n",
    "    - p: истинная вероятность того, что пользователю понравится дизайн.\n",
    "    Возвращает:\n",
    "    - number_of_users: int\n",
    "        - количество людей, которым надо показать дизайн.\n",
    "    \"\"\"\n",
    "    number_of_users = None\n",
    "\n",
    "    for N in np.arange(start=1, stop=1001, step=1):\n",
    "        #Найдем критическое значение для каждого N от 1 до 1000 с шагом 1 (человек)\n",
    "        critical_value = binom.ppf(alpha, N, p=1) - 1\n",
    "        #Зная критическое значение можем рассчитать мощность для определенного N:\n",
    "        power_N = binom.cdf(critical_value, N, p)\n",
    "        #Поскольку мы хотим найти минимальное количество пользователей N,при котором мы получим заданную мощность\n",
    "        #то верным значением будет первое найденное N, при котором мощность больше или равна 1-beta (т.к дискретность)\n",
    "        if power_N >= (1-beta):\n",
    "            number_of_users = N\n",
    "            break\n",
    "#         print(power_N)\n",
    "        \n",
    "    return number_of_users"
   ]
  },
  {
   "cell_type": "code",
   "execution_count": 67,
   "metadata": {},
   "outputs": [
    {
     "data": {
      "text/plain": [
       "32"
      ]
     },
     "execution_count": 67,
     "metadata": {},
     "output_type": "execute_result"
    }
   ],
   "source": [
    "calculate_number_of_users(0.05, 0.20, 0.95)"
   ]
  },
  {
   "cell_type": "markdown",
   "metadata": {
    "id": "Gf5XkemMeYTe"
   },
   "source": [
    "## Задача 3."
   ]
  },
  {
   "cell_type": "markdown",
   "metadata": {
    "id": "T-BANkgVegpD"
   },
   "source": [
    "По недостоверной информации (вероятность, что она верна, считаем за 1%), в новой версии нашего сайта есть сложнодетектируемый баг. Мы могли бы попросить разработку его отыскать и починить, но на это уйдет много ресурсов.\n",
    "\n",
    "К счастью, у нас есть старый AB тест (новая версия сайта vs старая), который мы можем проанализировать и с некоторой вероятностью обнаружить наличие бага просто сравнением выборок. У нас есть три критерия для проверки гипотезы \"$H_0$: баги нет, $H_1$: баг есть\":\n",
    "- критерий `A`: $\\alpha = 0.02, 1-\\beta = 0.50$\n",
    "- критерий `B`: $\\alpha = 0.05, 1-\\beta = 0.60$\n",
    "- критерий `C`: $\\alpha = 0.10, 1-\\beta = 0.70$\n",
    "\n",
    "Если критерий находит баг, мы просим разработчиков потратить силы и починить. На это у них уйдет усилий на 1 М ₽ независимо от того, найдут они баг или нет.\n",
    "Если критерий не найдет баг, затраты разработчиков будут нулевыми, но из-за бага мы потеряем в конечном итоге 50 М ₽.\n",
    "\n",
    "#### Пункт А. 2 балла: \n",
    "\n",
    "Какой критерий стоит выбрать?"
   ]
  },
  {
   "cell_type": "markdown",
   "metadata": {
    "id": "B7msl2CpeXZG"
   },
   "source": [
    "Чтобы понять, какой из критериев выбрать, необходимо рассчитать максимальные потери для каждого из них.\n",
    "\n",
    "Пусть\n",
    "\n",
    "$raz = 1M -$ усилия разработчиков на поиск бага, если критерий нашел баг\n",
    "\n",
    "$bag = 50M -$ сумма потерь, если критерий не нашел баг\n",
    "\n",
    "$p = 0.99 -$ вероятность события $H_0$, что багов нет\n",
    "\n",
    "$q = 1 - p = 0.01 -$ вероятность события $H_1$, что баги есть \n",
    "\n",
    "\n",
    "$\\alpha -$ багов нет, но мы их ищем \n",
    "\n",
    "$\\beta -$ баги есть, но мы их не ищем\n",
    "\n",
    "$1 - \\beta -$ баги есть и мы их ищем"
   ]
  },
  {
   "cell_type": "code",
   "execution_count": 70,
   "metadata": {},
   "outputs": [
    {
     "name": "stdout",
     "output_type": "stream",
     "text": [
      "Выбираем критерий 3 с минимальными вероятными потерями 0.249М руб.\n"
     ]
    }
   ],
   "source": [
    "raz = 1\n",
    "bag = 50\n",
    "p = 0.99\n",
    "q = 1 - p\n",
    "\n",
    "a = [0.02, 0.05, 0.10]\n",
    "b = [0.5, 0.4, 0.3]\n",
    "lost = np.inf\n",
    "num = 0\n",
    "for i in range(len(a)):\n",
    "    l = a[i]*raz*p + b[i]*bag*q\n",
    "    if (l <= lost):\n",
    "        lost = l\n",
    "        num = i+1\n",
    "lost = '%.3f' % lost\n",
    "        \n",
    "print(f'Выбираем критерий {num} с минимальными вероятными потерями {lost}М руб.' )        "
   ]
  },
  {
   "cell_type": "markdown",
   "metadata": {
    "id": "OA9UO8ZHgPbi"
   },
   "source": [
    "#### Пункт B. 2 балла: \n",
    "Предложите оптимальную стратегию, если потери от ненайденного бага составят вместо 50М:\n",
    "- 20М рублей;\n",
    "- 3М рублей;\n",
    "- 300М рублей."
   ]
  },
  {
   "cell_type": "markdown",
   "metadata": {
    "id": "-ZjyRGlSlid1"
   },
   "source": [
    "Применим тот же алгоритм, что и выше, для новых значений параметра bag, но учтем, что помимо выбора одного из критериев, есть вариант $\\textit{ничего не делать}$ который обойдется нам в ~тысячу лет~ $bag \\cdot q$"
   ]
  },
  {
   "cell_type": "code",
   "execution_count": 72,
   "metadata": {},
   "outputs": [
    {
     "name": "stdout",
     "output_type": "stream",
     "text": [
      "Для суммы потерь от ненайденного бага в 20М руб. выбираем критерий 1 с минимальными вероятными потерями 0.120М руб.\n",
      "Для суммы потерь от ненайденного бага в 3М руб. выбираем критерий ничего не делать с минимальными вероятными потерями 0.030М руб.\n",
      "Для суммы потерь от ненайденного бага в 300М руб. выбираем критерий 3 с минимальными вероятными потерями 0.999М руб.\n"
     ]
    }
   ],
   "source": [
    "raz = 1\n",
    "bag = [20, 3, 300]\n",
    "p = 0.99\n",
    "q = 1 - p\n",
    "\n",
    "a = [0.02, 0.05, 0.10]\n",
    "b = [0.5, 0.4, 0.3]\n",
    "\n",
    "for mil in bag:\n",
    "    do_nothing = mil*q\n",
    "    lost = np.inf\n",
    "    num = 0\n",
    "    for i in range(len(a)):\n",
    "        l = a[i]*raz*p + b[i]*mil*q\n",
    "        if (l <= lost): # при таком условии полученный критерий будет обладать большей мощностью при прочих равных\n",
    "            lost = l\n",
    "            num = i+1\n",
    "            \n",
    "    if do_nothing <= lost:\n",
    "        lost = do_nothing\n",
    "        num = 'ничего не делать'\n",
    "        \n",
    "    lost = '%.3f' % lost\n",
    "    print(f'Для суммы потерь от ненайденного бага в {mil}М руб. '\n",
    "            f'выбираем критерий {num} с минимальными вероятными потерями {lost}М руб.' )"
   ]
  },
  {
   "cell_type": "code",
   "execution_count": null,
   "metadata": {},
   "outputs": [],
   "source": []
  }
 ],
 "metadata": {
  "colab": {
   "collapsed_sections": [],
   "provenance": []
  },
  "kernelspec": {
   "display_name": "Python 3",
   "language": "python",
   "name": "python3"
  },
  "language_info": {
   "codemirror_mode": {
    "name": "ipython",
    "version": 3
   },
   "file_extension": ".py",
   "mimetype": "text/x-python",
   "name": "python",
   "nbconvert_exporter": "python",
   "pygments_lexer": "ipython3",
   "version": "3.8.3"
  }
 },
 "nbformat": 4,
 "nbformat_minor": 1
}
